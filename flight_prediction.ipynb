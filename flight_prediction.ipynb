{
 "cells": [
  {
   "cell_type": "markdown",
   "metadata": {},
   "source": [
    "## Flight Price Prediction\n",
    "This project is about using a machine learning model to predict flight prices, given a dataset of flight data."
   ]
  },
  {
   "cell_type": "markdown",
   "metadata": {},
   "source": [
    "### Data Dictionary\n",
    "\n",
    "#### Variable\tDescription\n",
    "\n",
    "Airline\t- The name of the airline\n",
    "\n",
    "source -\tThe date of the journey\n",
    "\n",
    "Destination -\tThe destination where the service ends.\n",
    "\n",
    "Route -The route taken by the flight to reach the destination.\n",
    "\n",
    "Dep_Time -\tThe time when the journey starts from the source\n",
    "\n",
    "Arrival_Time -\tTime of arrival at the destination.\n",
    "\n",
    "Duration -\tTotal duration of the flight.\n",
    "\n",
    "Total_Stops -\tTotal stops between the source and destination.\n",
    "\n",
    "Additional_Info -\tAdditional information about the flight\n",
    "\n",
    "Price -\tTarget, The price of the ticket()"
   ]
  },
  {
   "cell_type": "markdown",
   "metadata": {},
   "source": [
    "#### Train.csv\n",
    "\n",
    "It contains the training data with flight details as described in the above section\n",
    "\n",
    "#### Test.csv\n",
    "\n",
    "It has flight details for prediction of the flight price"
   ]
  },
  {
   "cell_type": "markdown",
   "metadata": {},
   "source": [
    "### Importing libraries\n",
    "The libraries required are pandas for dataframes, matplotlib for plotting, sklearn.preprocessing for Label Encoding, numpy for arrays, seaborn for pair plots, and sklearn.model_selection for splitting data into test and train data."
   ]
  },
  {
   "cell_type": "code",
   "execution_count": 61,
   "metadata": {},
   "outputs": [],
   "source": [
    "import pandas as pd\n",
    "import matplotlib.pyplot as plt\n",
    "from sklearn.preprocessing import LabelEncoder\n",
    "import numpy as np\n",
    "import seaborn as sns\n",
    "from sklearn.model_selection import train_test_split"
   ]
  },
  {
   "cell_type": "markdown",
   "metadata": {},
   "source": [
    "### Reading the datafile"
   ]
  },
  {
   "cell_type": "code",
   "execution_count": 62,
   "metadata": {},
   "outputs": [],
   "source": [
    "df_train=pd.read_csv(\"D:/greyatom/Test/file/train.csv\")"
   ]
  },
  {
   "cell_type": "markdown",
   "metadata": {},
   "source": [
    "### Analyzing the datafile"
   ]
  },
  {
   "cell_type": "code",
   "execution_count": 63,
   "metadata": {},
   "outputs": [
    {
     "data": {
      "text/html": [
       "<div>\n",
       "<style scoped>\n",
       "    .dataframe tbody tr th:only-of-type {\n",
       "        vertical-align: middle;\n",
       "    }\n",
       "\n",
       "    .dataframe tbody tr th {\n",
       "        vertical-align: top;\n",
       "    }\n",
       "\n",
       "    .dataframe thead th {\n",
       "        text-align: right;\n",
       "    }\n",
       "</style>\n",
       "<table border=\"1\" class=\"dataframe\">\n",
       "  <thead>\n",
       "    <tr style=\"text-align: right;\">\n",
       "      <th></th>\n",
       "      <th>Airline</th>\n",
       "      <th>Date_of_Journey</th>\n",
       "      <th>Source</th>\n",
       "      <th>Destination</th>\n",
       "      <th>Route</th>\n",
       "      <th>Dep_Time</th>\n",
       "      <th>Arrival_Time</th>\n",
       "      <th>Duration</th>\n",
       "      <th>Total_Stops</th>\n",
       "      <th>Additional_Info</th>\n",
       "      <th>Price</th>\n",
       "    </tr>\n",
       "  </thead>\n",
       "  <tbody>\n",
       "    <tr>\n",
       "      <th>0</th>\n",
       "      <td>Airline C</td>\n",
       "      <td>12/06/2019</td>\n",
       "      <td>Delhi</td>\n",
       "      <td>Cochin</td>\n",
       "      <td>DEL → MAA → COK</td>\n",
       "      <td>20:40</td>\n",
       "      <td>09:25 13 Jun</td>\n",
       "      <td>12h 45m</td>\n",
       "      <td>1 stop</td>\n",
       "      <td>No info</td>\n",
       "      <td>7480</td>\n",
       "    </tr>\n",
       "    <tr>\n",
       "      <th>1</th>\n",
       "      <td>Airline A</td>\n",
       "      <td>18/06/2019</td>\n",
       "      <td>Banglore</td>\n",
       "      <td>Delhi</td>\n",
       "      <td>BLR → DEL</td>\n",
       "      <td>18:55</td>\n",
       "      <td>22:00</td>\n",
       "      <td>3h 5m</td>\n",
       "      <td>non-stop</td>\n",
       "      <td>No info</td>\n",
       "      <td>8016</td>\n",
       "    </tr>\n",
       "    <tr>\n",
       "      <th>2</th>\n",
       "      <td>Airline C</td>\n",
       "      <td>18/05/2019</td>\n",
       "      <td>Delhi</td>\n",
       "      <td>Cochin</td>\n",
       "      <td>DEL → BOM → COK</td>\n",
       "      <td>03:50</td>\n",
       "      <td>19:15</td>\n",
       "      <td>15h 25m</td>\n",
       "      <td>1 stop</td>\n",
       "      <td>No info</td>\n",
       "      <td>8879</td>\n",
       "    </tr>\n",
       "    <tr>\n",
       "      <th>3</th>\n",
       "      <td>Airline A</td>\n",
       "      <td>6/05/2019</td>\n",
       "      <td>Kolkata</td>\n",
       "      <td>Banglore</td>\n",
       "      <td>CCU → BOM → BLR</td>\n",
       "      <td>20:00</td>\n",
       "      <td>08:15 07 May</td>\n",
       "      <td>12h 15m</td>\n",
       "      <td>1 stop</td>\n",
       "      <td>In-flight meal not included</td>\n",
       "      <td>9663</td>\n",
       "    </tr>\n",
       "    <tr>\n",
       "      <th>4</th>\n",
       "      <td>Airline A</td>\n",
       "      <td>9/05/2019</td>\n",
       "      <td>Kolkata</td>\n",
       "      <td>Banglore</td>\n",
       "      <td>CCU → BOM → BLR</td>\n",
       "      <td>06:30</td>\n",
       "      <td>12:00</td>\n",
       "      <td>5h 30m</td>\n",
       "      <td>1 stop</td>\n",
       "      <td>In-flight meal not included</td>\n",
       "      <td>9663</td>\n",
       "    </tr>\n",
       "  </tbody>\n",
       "</table>\n",
       "</div>"
      ],
      "text/plain": [
       "     Airline Date_of_Journey    Source Destination            Route Dep_Time  \\\n",
       "0  Airline C      12/06/2019     Delhi      Cochin  DEL → MAA → COK    20:40   \n",
       "1  Airline A      18/06/2019  Banglore       Delhi        BLR → DEL    18:55   \n",
       "2  Airline C      18/05/2019     Delhi      Cochin  DEL → BOM → COK    03:50   \n",
       "3  Airline A       6/05/2019   Kolkata    Banglore  CCU → BOM → BLR    20:00   \n",
       "4  Airline A       9/05/2019   Kolkata    Banglore  CCU → BOM → BLR    06:30   \n",
       "\n",
       "   Arrival_Time Duration Total_Stops              Additional_Info  Price  \n",
       "0  09:25 13 Jun  12h 45m      1 stop                      No info   7480  \n",
       "1         22:00    3h 5m    non-stop                      No info   8016  \n",
       "2         19:15  15h 25m      1 stop                      No info   8879  \n",
       "3  08:15 07 May  12h 15m      1 stop  In-flight meal not included   9663  \n",
       "4         12:00   5h 30m      1 stop  In-flight meal not included   9663  "
      ]
     },
     "execution_count": 63,
     "metadata": {},
     "output_type": "execute_result"
    }
   ],
   "source": [
    "df_train.head()"
   ]
  },
  {
   "cell_type": "code",
   "execution_count": 64,
   "metadata": {},
   "outputs": [
    {
     "data": {
      "text/plain": [
       "(8012, 11)"
      ]
     },
     "execution_count": 64,
     "metadata": {},
     "output_type": "execute_result"
    }
   ],
   "source": [
    "df_train.shape"
   ]
  },
  {
   "cell_type": "markdown",
   "metadata": {},
   "source": [
    "### Converting duration from hours min format to min format"
   ]
  },
  {
   "cell_type": "code",
   "execution_count": 65,
   "metadata": {},
   "outputs": [
    {
     "data": {
      "text/html": [
       "<div>\n",
       "<style scoped>\n",
       "    .dataframe tbody tr th:only-of-type {\n",
       "        vertical-align: middle;\n",
       "    }\n",
       "\n",
       "    .dataframe tbody tr th {\n",
       "        vertical-align: top;\n",
       "    }\n",
       "\n",
       "    .dataframe thead th {\n",
       "        text-align: right;\n",
       "    }\n",
       "</style>\n",
       "<table border=\"1\" class=\"dataframe\">\n",
       "  <thead>\n",
       "    <tr style=\"text-align: right;\">\n",
       "      <th></th>\n",
       "      <th>Airline</th>\n",
       "      <th>Date_of_Journey</th>\n",
       "      <th>Source</th>\n",
       "      <th>Destination</th>\n",
       "      <th>Route</th>\n",
       "      <th>Dep_Time</th>\n",
       "      <th>Arrival_Time</th>\n",
       "      <th>Duration</th>\n",
       "      <th>Total_Stops</th>\n",
       "      <th>Additional_Info</th>\n",
       "      <th>Price</th>\n",
       "      <th>Duration _in_min</th>\n",
       "    </tr>\n",
       "  </thead>\n",
       "  <tbody>\n",
       "    <tr>\n",
       "      <th>0</th>\n",
       "      <td>Airline C</td>\n",
       "      <td>12/06/2019</td>\n",
       "      <td>Delhi</td>\n",
       "      <td>Cochin</td>\n",
       "      <td>DEL → MAA → COK</td>\n",
       "      <td>20:40</td>\n",
       "      <td>09:25 13 Jun</td>\n",
       "      <td>12h 45m</td>\n",
       "      <td>1 stop</td>\n",
       "      <td>No info</td>\n",
       "      <td>7480</td>\n",
       "      <td>765</td>\n",
       "    </tr>\n",
       "    <tr>\n",
       "      <th>1</th>\n",
       "      <td>Airline A</td>\n",
       "      <td>18/06/2019</td>\n",
       "      <td>Banglore</td>\n",
       "      <td>Delhi</td>\n",
       "      <td>BLR → DEL</td>\n",
       "      <td>18:55</td>\n",
       "      <td>22:00</td>\n",
       "      <td>3h 5m</td>\n",
       "      <td>non-stop</td>\n",
       "      <td>No info</td>\n",
       "      <td>8016</td>\n",
       "      <td>185</td>\n",
       "    </tr>\n",
       "    <tr>\n",
       "      <th>2</th>\n",
       "      <td>Airline C</td>\n",
       "      <td>18/05/2019</td>\n",
       "      <td>Delhi</td>\n",
       "      <td>Cochin</td>\n",
       "      <td>DEL → BOM → COK</td>\n",
       "      <td>03:50</td>\n",
       "      <td>19:15</td>\n",
       "      <td>15h 25m</td>\n",
       "      <td>1 stop</td>\n",
       "      <td>No info</td>\n",
       "      <td>8879</td>\n",
       "      <td>925</td>\n",
       "    </tr>\n",
       "    <tr>\n",
       "      <th>3</th>\n",
       "      <td>Airline A</td>\n",
       "      <td>6/05/2019</td>\n",
       "      <td>Kolkata</td>\n",
       "      <td>Banglore</td>\n",
       "      <td>CCU → BOM → BLR</td>\n",
       "      <td>20:00</td>\n",
       "      <td>08:15 07 May</td>\n",
       "      <td>12h 15m</td>\n",
       "      <td>1 stop</td>\n",
       "      <td>In-flight meal not included</td>\n",
       "      <td>9663</td>\n",
       "      <td>735</td>\n",
       "    </tr>\n",
       "    <tr>\n",
       "      <th>4</th>\n",
       "      <td>Airline A</td>\n",
       "      <td>9/05/2019</td>\n",
       "      <td>Kolkata</td>\n",
       "      <td>Banglore</td>\n",
       "      <td>CCU → BOM → BLR</td>\n",
       "      <td>06:30</td>\n",
       "      <td>12:00</td>\n",
       "      <td>5h 30m</td>\n",
       "      <td>1 stop</td>\n",
       "      <td>In-flight meal not included</td>\n",
       "      <td>9663</td>\n",
       "      <td>330</td>\n",
       "    </tr>\n",
       "  </tbody>\n",
       "</table>\n",
       "</div>"
      ],
      "text/plain": [
       "     Airline Date_of_Journey    Source Destination            Route Dep_Time  \\\n",
       "0  Airline C      12/06/2019     Delhi      Cochin  DEL → MAA → COK    20:40   \n",
       "1  Airline A      18/06/2019  Banglore       Delhi        BLR → DEL    18:55   \n",
       "2  Airline C      18/05/2019     Delhi      Cochin  DEL → BOM → COK    03:50   \n",
       "3  Airline A       6/05/2019   Kolkata    Banglore  CCU → BOM → BLR    20:00   \n",
       "4  Airline A       9/05/2019   Kolkata    Banglore  CCU → BOM → BLR    06:30   \n",
       "\n",
       "   Arrival_Time Duration Total_Stops              Additional_Info  Price  \\\n",
       "0  09:25 13 Jun  12h 45m      1 stop                      No info   7480   \n",
       "1         22:00    3h 5m    non-stop                      No info   8016   \n",
       "2         19:15  15h 25m      1 stop                      No info   8879   \n",
       "3  08:15 07 May  12h 15m      1 stop  In-flight meal not included   9663   \n",
       "4         12:00   5h 30m      1 stop  In-flight meal not included   9663   \n",
       "\n",
       "   Duration _in_min  \n",
       "0               765  \n",
       "1               185  \n",
       "2               925  \n",
       "3               735  \n",
       "4               330  "
      ]
     },
     "execution_count": 65,
     "metadata": {},
     "output_type": "execute_result"
    }
   ],
   "source": [
    "import datetime\n",
    "df_train['Duration _in_min']=(pd.to_timedelta(df_train.Duration.str.replace('mins', 'min')).dt.total_seconds()//60).astype(int)\n",
    "\n",
    "df_train.head()"
   ]
  },
  {
   "cell_type": "markdown",
   "metadata": {},
   "source": [
    "### Dropping the column for Duration in hr minutes format"
   ]
  },
  {
   "cell_type": "code",
   "execution_count": 66,
   "metadata": {},
   "outputs": [],
   "source": [
    "df_train_new= df_train.drop([\"Duration\"],1)"
   ]
  },
  {
   "cell_type": "code",
   "execution_count": 67,
   "metadata": {},
   "outputs": [
    {
     "data": {
      "text/plain": [
       "0       12/06/2019\n",
       "1       18/06/2019\n",
       "2       18/05/2019\n",
       "3        6/05/2019\n",
       "4        9/05/2019\n",
       "           ...    \n",
       "8007    12/06/2019\n",
       "8008     9/06/2019\n",
       "8009     3/03/2019\n",
       "8010    18/05/2019\n",
       "8011     9/05/2019\n",
       "Name: Date_of_Journey, Length: 8012, dtype: object"
      ]
     },
     "execution_count": 67,
     "metadata": {},
     "output_type": "execute_result"
    }
   ],
   "source": [
    "df_train_new['Date_of_Journey'].replace('\\n', '')"
   ]
  },
  {
   "cell_type": "code",
   "execution_count": 68,
   "metadata": {},
   "outputs": [
    {
     "data": {
      "text/plain": [
       "Index(['Airline', 'Date_of_Journey', 'Source', 'Destination', 'Route',\n",
       "       'Dep_Time', 'Arrival_Time', 'Total_Stops', 'Additional_Info', 'Price',\n",
       "       'Duration _in_min'],\n",
       "      dtype='object')"
      ]
     },
     "execution_count": 68,
     "metadata": {},
     "output_type": "execute_result"
    }
   ],
   "source": [
    "df_train_new.columns"
   ]
  },
  {
   "cell_type": "markdown",
   "metadata": {},
   "source": [
    "### Finding the columns with null values"
   ]
  },
  {
   "cell_type": "code",
   "execution_count": 69,
   "metadata": {},
   "outputs": [
    {
     "data": {
      "text/plain": [
       "Airline             0\n",
       "Date_of_Journey     0\n",
       "Source              0\n",
       "Destination         0\n",
       "Route               1\n",
       "Dep_Time            0\n",
       "Arrival_Time        0\n",
       "Total_Stops         1\n",
       "Additional_Info     0\n",
       "Price               0\n",
       "Duration _in_min    0\n",
       "dtype: int64"
      ]
     },
     "execution_count": 69,
     "metadata": {},
     "output_type": "execute_result"
    }
   ],
   "source": [
    "df_train_new.isnull().sum()"
   ]
  },
  {
   "cell_type": "markdown",
   "metadata": {},
   "source": [
    "There are two columns with 1 null value in each."
   ]
  },
  {
   "cell_type": "code",
   "execution_count": 70,
   "metadata": {},
   "outputs": [
    {
     "name": "stdout",
     "output_type": "stream",
     "text": [
      "<class 'pandas.core.frame.DataFrame'>\n",
      "RangeIndex: 8012 entries, 0 to 8011\n",
      "Data columns (total 11 columns):\n",
      " #   Column            Non-Null Count  Dtype \n",
      "---  ------            --------------  ----- \n",
      " 0   Airline           8012 non-null   object\n",
      " 1   Date_of_Journey   8012 non-null   object\n",
      " 2   Source            8012 non-null   object\n",
      " 3   Destination       8012 non-null   object\n",
      " 4   Route             8011 non-null   object\n",
      " 5   Dep_Time          8012 non-null   object\n",
      " 6   Arrival_Time      8012 non-null   object\n",
      " 7   Total_Stops       8011 non-null   object\n",
      " 8   Additional_Info   8012 non-null   object\n",
      " 9   Price             8012 non-null   int64 \n",
      " 10  Duration _in_min  8012 non-null   int32 \n",
      "dtypes: int32(1), int64(1), object(9)\n",
      "memory usage: 657.4+ KB\n"
     ]
    }
   ],
   "source": [
    "df_train_new.info()"
   ]
  },
  {
   "cell_type": "code",
   "execution_count": 71,
   "metadata": {},
   "outputs": [
    {
     "data": {
      "text/plain": [
       "10262    197\n",
       "10844    168\n",
       "7229     126\n",
       "4804     110\n",
       "4823      96\n",
       "        ... \n",
       "10366      1\n",
       "12648      1\n",
       "6481       1\n",
       "6477       1\n",
       "4098       1\n",
       "Name: Price, Length: 1632, dtype: int64"
      ]
     },
     "execution_count": 71,
     "metadata": {},
     "output_type": "execute_result"
    }
   ],
   "source": [
    "df_train_new.Price.value_counts()"
   ]
  },
  {
   "cell_type": "code",
   "execution_count": 72,
   "metadata": {},
   "outputs": [
    {
     "data": {
      "text/plain": [
       "array(['Airline C', 'Airline A', 'Airline E', 'Airline G', 'Airline B',\n",
       "       'Airline D', 'Airline F', 'Airline I', 'Airline H', 'Airline J',\n",
       "       'Airline K', 'Airline L'], dtype=object)"
      ]
     },
     "execution_count": 72,
     "metadata": {},
     "output_type": "execute_result"
    }
   ],
   "source": [
    "df_train_new['Airline'].unique()"
   ]
  },
  {
   "cell_type": "markdown",
   "metadata": {},
   "source": [
    "### Finding missing values from a bargraph"
   ]
  },
  {
   "cell_type": "code",
   "execution_count": 73,
   "metadata": {},
   "outputs": [
    {
     "data": {
      "text/plain": [
       "<matplotlib.axes._subplots.AxesSubplot at 0x192c5ca3f70>"
      ]
     },
     "execution_count": 73,
     "metadata": {},
     "output_type": "execute_result"
    },
    {
     "data": {
      "image/png": "[encoded data removed]",
      "text/plain": [
       "<Figure size 720x360 with 3 Axes>"
      ]
     },
     "metadata": {
      "needs_background": "light"
     },
     "output_type": "display_data"
    }
   ],
   "source": [
    "import missingno as mn\n",
    "mn.bar(df_train_new, color=\"green\", sort=\"ascending\", figsize=(10,5), fontsize=12)"
   ]
  },
  {
   "cell_type": "markdown",
   "metadata": {},
   "source": [
    "### Bivariate Analysis\n",
    "### Finding distribution of price against duration in minutes"
   ]
  },
  {
   "cell_type": "code",
   "execution_count": 74,
   "metadata": {},
   "outputs": [
    {
     "data": {
      "image/png": "[encoded data removed]",
      "text/plain": [
       "<Figure size 360x360 with 6 Axes>"
      ]
     },
     "metadata": {
      "needs_background": "light"
     },
     "output_type": "display_data"
    }
   ],
   "source": [
    "sns.pairplot(df_train_new,vars = ['Duration _in_min', 'Price']);"
   ]
  },
  {
   "cell_type": "markdown",
   "metadata": {},
   "source": [
    "Surprisingly, the price is not linearly correlated with the duration. This means, there is some other factor which is determining the price. It may be the day of the week."
   ]
  },
  {
   "cell_type": "markdown",
   "metadata": {},
   "source": [
    "### Converting date to day of the week\n",
    "The price would differ based on whether it is weekend, or a weekday for the same route and duration. Therefore, it is important to find out the day of the week for each flight date."
   ]
  },
  {
   "cell_type": "code",
   "execution_count": 75,
   "metadata": {},
   "outputs": [],
   "source": [
    "# Converting all dates to standard format\n",
    "df_train_new['Day_of_Week'] = pd.to_datetime(df_train_new['Date_of_Journey'], format='%d/%m/%Y')\n",
    "\n",
    "#Identifying the day of the week\n",
    "df_train_new['Day_of_Week'] = df_train_new['Day_of_Week'].dt.day_name()"
   ]
  },
  {
   "cell_type": "markdown",
   "metadata": {},
   "source": [
    "### Dropping Additional Info column"
   ]
  },
  {
   "cell_type": "markdown",
   "metadata": {},
   "source": [
    "The Additional Info column does not hold much information important to the price. So, it would be better to drop the column. Else, it would unnecessarily skew the data."
   ]
  },
  {
   "cell_type": "code",
   "execution_count": 76,
   "metadata": {},
   "outputs": [],
   "source": [
    "#df_train_new = df_train_new.drop([\"Additional_Info\"],1)"
   ]
  },
  {
   "cell_type": "markdown",
   "metadata": {},
   "source": [
    "###  Pie diagram"
   ]
  },
  {
   "cell_type": "code",
   "execution_count": 77,
   "metadata": {},
   "outputs": [],
   "source": [
    "p_label=df_train_new['Airline'].unique()"
   ]
  },
  {
   "cell_type": "code",
   "execution_count": 78,
   "metadata": {},
   "outputs": [
    {
     "data": {
      "image/png": "[encoded data removed]",
      "text/plain": [
       "<Figure size 720x504 with 1 Axes>"
      ]
     },
     "metadata": {},
     "output_type": "display_data"
    }
   ],
   "source": [
    "fig = plt.figure(figsize =(10, 7)) \n",
    "explode=(0.0, 0.1, 0.0, 0.1,0.0,0.1,0.0,0.1,0.0,0.2,0.3\n",
    "         ,0.1)\n",
    "plt.pie(df_train_new.Airline.value_counts(),explode=explode,labels=p_label,autopct='%1.1f%%') \n",
    "  \n",
    "plt.title('Airlines')\n",
    "plt.axis('equal')\n",
    "plt.show() "
   ]
  },
  {
   "cell_type": "markdown",
   "metadata": {},
   "source": [
    "This shows that airline C has the most number of flights and airline K has the least number of flights."
   ]
  },
  {
   "cell_type": "markdown",
   "metadata": {},
   "source": [
    "## Converting categorical values to numerical values using Label Encoder"
   ]
  },
  {
   "cell_type": "code",
   "execution_count": 79,
   "metadata": {},
   "outputs": [],
   "source": [
    "cat_feature = df_train_new.select_dtypes(include = \"object\").columns"
   ]
  },
  {
   "cell_type": "code",
   "execution_count": 80,
   "metadata": {},
   "outputs": [
    {
     "data": {
      "text/plain": [
       "Index(['Airline', 'Date_of_Journey', 'Source', 'Destination', 'Route',\n",
       "       'Dep_Time', 'Arrival_Time', 'Total_Stops', 'Additional_Info',\n",
       "       'Day_of_Week'],\n",
       "      dtype='object')"
      ]
     },
     "execution_count": 80,
     "metadata": {},
     "output_type": "execute_result"
    }
   ],
   "source": [
    "cat_feature"
   ]
  },
  {
   "cell_type": "code",
   "execution_count": 81,
   "metadata": {},
   "outputs": [
    {
     "name": "stdout",
     "output_type": "stream",
     "text": [
      "<class 'pandas.core.frame.DataFrame'>\n",
      "RangeIndex: 8012 entries, 0 to 8011\n",
      "Data columns (total 12 columns):\n",
      " #   Column            Non-Null Count  Dtype\n",
      "---  ------            --------------  -----\n",
      " 0   Airline           8012 non-null   int32\n",
      " 1   Date_of_Journey   8012 non-null   int32\n",
      " 2   Source            8012 non-null   int32\n",
      " 3   Destination       8012 non-null   int32\n",
      " 4   Route             8012 non-null   int32\n",
      " 5   Dep_Time          8012 non-null   int32\n",
      " 6   Arrival_Time      8012 non-null   int32\n",
      " 7   Total_Stops       8012 non-null   int32\n",
      " 8   Additional_Info   8012 non-null   int32\n",
      " 9   Price             8012 non-null   int64\n",
      " 10  Duration _in_min  8012 non-null   int32\n",
      " 11  Day_of_Week       8012 non-null   int32\n",
      "dtypes: int32(11), int64(1)\n",
      "memory usage: 407.0 KB\n",
      "None\n"
     ]
    }
   ],
   "source": [
    "#Label Encoding 'for object' to numeric conversion\n",
    "\n",
    "LE_var = LabelEncoder()\n",
    "\n",
    "for col in cat_feature:\n",
    "    #df_train[col] = LE_var.fit(df_train[col].astype(str))\n",
    "    df_train_new[col] = LE_var.fit_transform(df_train_new[col].astype(str))\n",
    "print (df_train_new.info())\n",
    "\n",
    "\n",
    "    "
   ]
  },
  {
   "cell_type": "code",
   "execution_count": 82,
   "metadata": {},
   "outputs": [
    {
     "data": {
      "text/plain": [
       "<matplotlib.axes._subplots.AxesSubplot at 0x192c3fb3700>"
      ]
     },
     "execution_count": 82,
     "metadata": {},
     "output_type": "execute_result"
    },
    {
     "data": {
      "image/png": "[encoded data removed]",
      "text/plain": [
       "<Figure size 1440x432 with 2 Axes>"
      ]
     },
     "metadata": {
      "needs_background": "light"
     },
     "output_type": "display_data"
    }
   ],
   "source": [
    "plt.figure(figsize = (20,6))\n",
    "sns.heatmap(df_train_new.corr(), annot=True, fmt='.1g', vmin=-1, vmax=1, center= 0,cmap= 'Reds',linewidths=1,linecolor='white',square=True)\n",
    "            "
   ]
  },
  {
   "cell_type": "markdown",
   "metadata": {},
   "source": [
    "## Data preprocessing on 'Test Data'"
   ]
  },
  {
   "cell_type": "code",
   "execution_count": 83,
   "metadata": {},
   "outputs": [],
   "source": [
    "df_test=pd.read_csv(\"D:/greyatom/Test/file/test.csv\")"
   ]
  },
  {
   "cell_type": "code",
   "execution_count": 84,
   "metadata": {},
   "outputs": [
    {
     "data": {
      "text/plain": [
       "0       27-03-2019\n",
       "1       27-05-2019\n",
       "2       06-06-2019\n",
       "3       06-03-2019\n",
       "4       15-06-2019\n",
       "           ...    \n",
       "2666    21-03-2019\n",
       "2667    27-04-2019\n",
       "2668    09-06-2019\n",
       "2669    01-05-2019\n",
       "2670    09-06-2019\n",
       "Name: Date_of_Journey, Length: 2671, dtype: object"
      ]
     },
     "execution_count": 84,
     "metadata": {},
     "output_type": "execute_result"
    }
   ],
   "source": [
    "df_test['Date_of_Journey']"
   ]
  },
  {
   "cell_type": "code",
   "execution_count": 85,
   "metadata": {},
   "outputs": [],
   "source": [
    "import datetime\n",
    "df_test['Date_of_Journey'] = pd.to_datetime(df_test['Date_of_Journey']).dt.strftime('%m/%d/%Y')"
   ]
  },
  {
   "cell_type": "code",
   "execution_count": 86,
   "metadata": {},
   "outputs": [
    {
     "data": {
      "text/html": [
       "<div>\n",
       "<style scoped>\n",
       "    .dataframe tbody tr th:only-of-type {\n",
       "        vertical-align: middle;\n",
       "    }\n",
       "\n",
       "    .dataframe tbody tr th {\n",
       "        vertical-align: top;\n",
       "    }\n",
       "\n",
       "    .dataframe thead th {\n",
       "        text-align: right;\n",
       "    }\n",
       "</style>\n",
       "<table border=\"1\" class=\"dataframe\">\n",
       "  <thead>\n",
       "    <tr style=\"text-align: right;\">\n",
       "      <th></th>\n",
       "      <th>Airline</th>\n",
       "      <th>Date_of_Journey</th>\n",
       "      <th>Source</th>\n",
       "      <th>Destination</th>\n",
       "      <th>Route</th>\n",
       "      <th>Dep_Time</th>\n",
       "      <th>Arrival_Time</th>\n",
       "      <th>Duration</th>\n",
       "      <th>Total_Stops</th>\n",
       "      <th>Additional_Info</th>\n",
       "    </tr>\n",
       "  </thead>\n",
       "  <tbody>\n",
       "    <tr>\n",
       "      <th>0</th>\n",
       "      <td>Airline B</td>\n",
       "      <td>03/27/2019</td>\n",
       "      <td>Delhi</td>\n",
       "      <td>Cochin</td>\n",
       "      <td>DEL → HYD → COK</td>\n",
       "      <td>04:55</td>\n",
       "      <td>16:10</td>\n",
       "      <td>11h 15m</td>\n",
       "      <td>1 stop</td>\n",
       "      <td>No info</td>\n",
       "    </tr>\n",
       "    <tr>\n",
       "      <th>1</th>\n",
       "      <td>Airline E</td>\n",
       "      <td>05/27/2019</td>\n",
       "      <td>Kolkata</td>\n",
       "      <td>Banglore</td>\n",
       "      <td>CCU → BLR</td>\n",
       "      <td>22:20</td>\n",
       "      <td>28-05-2020 00:40</td>\n",
       "      <td>2h 20m</td>\n",
       "      <td>non-stop</td>\n",
       "      <td>No info</td>\n",
       "    </tr>\n",
       "    <tr>\n",
       "      <th>2</th>\n",
       "      <td>Airline C</td>\n",
       "      <td>06/06/2019</td>\n",
       "      <td>Kolkata</td>\n",
       "      <td>Banglore</td>\n",
       "      <td>CCU → IXR → DEL → BLR</td>\n",
       "      <td>05:50</td>\n",
       "      <td>20:25</td>\n",
       "      <td>14h 35m</td>\n",
       "      <td>2 stops</td>\n",
       "      <td>No info</td>\n",
       "    </tr>\n",
       "    <tr>\n",
       "      <th>3</th>\n",
       "      <td>Airline A</td>\n",
       "      <td>06/03/2019</td>\n",
       "      <td>Banglore</td>\n",
       "      <td>New Delhi</td>\n",
       "      <td>BLR → MAA → DEL</td>\n",
       "      <td>09:45</td>\n",
       "      <td>14:25</td>\n",
       "      <td>4h 40m</td>\n",
       "      <td>1 stop</td>\n",
       "      <td>No info</td>\n",
       "    </tr>\n",
       "    <tr>\n",
       "      <th>4</th>\n",
       "      <td>Airline B</td>\n",
       "      <td>06/15/2019</td>\n",
       "      <td>Delhi</td>\n",
       "      <td>Cochin</td>\n",
       "      <td>DEL → BOM → COK</td>\n",
       "      <td>16:00</td>\n",
       "      <td>16-06-2020 01:30</td>\n",
       "      <td>9h 30m</td>\n",
       "      <td>1 stop</td>\n",
       "      <td>No info</td>\n",
       "    </tr>\n",
       "  </tbody>\n",
       "</table>\n",
       "</div>"
      ],
      "text/plain": [
       "     Airline Date_of_Journey    Source Destination                  Route  \\\n",
       "0  Airline B      03/27/2019     Delhi      Cochin        DEL → HYD → COK   \n",
       "1  Airline E      05/27/2019   Kolkata    Banglore              CCU → BLR   \n",
       "2  Airline C      06/06/2019   Kolkata    Banglore  CCU → IXR → DEL → BLR   \n",
       "3  Airline A      06/03/2019  Banglore   New Delhi        BLR → MAA → DEL   \n",
       "4  Airline B      06/15/2019     Delhi      Cochin        DEL → BOM → COK   \n",
       "\n",
       "  Dep_Time      Arrival_Time Duration Total_Stops Additional_Info  \n",
       "0    04:55             16:10  11h 15m      1 stop         No info  \n",
       "1    22:20  28-05-2020 00:40   2h 20m    non-stop         No info  \n",
       "2    05:50             20:25  14h 35m     2 stops         No info  \n",
       "3    09:45             14:25   4h 40m      1 stop         No info  \n",
       "4    16:00  16-06-2020 01:30   9h 30m      1 stop         No info  "
      ]
     },
     "execution_count": 86,
     "metadata": {},
     "output_type": "execute_result"
    }
   ],
   "source": [
    "df_test.head()"
   ]
  },
  {
   "cell_type": "code",
   "execution_count": 87,
   "metadata": {},
   "outputs": [
    {
     "data": {
      "text/plain": [
       "(2671, 10)"
      ]
     },
     "execution_count": 87,
     "metadata": {},
     "output_type": "execute_result"
    }
   ],
   "source": [
    "df_test.shape"
   ]
  },
  {
   "cell_type": "code",
   "execution_count": 88,
   "metadata": {},
   "outputs": [
    {
     "data": {
      "text/html": [
       "<div>\n",
       "<style scoped>\n",
       "    .dataframe tbody tr th:only-of-type {\n",
       "        vertical-align: middle;\n",
       "    }\n",
       "\n",
       "    .dataframe tbody tr th {\n",
       "        vertical-align: top;\n",
       "    }\n",
       "\n",
       "    .dataframe thead th {\n",
       "        text-align: right;\n",
       "    }\n",
       "</style>\n",
       "<table border=\"1\" class=\"dataframe\">\n",
       "  <thead>\n",
       "    <tr style=\"text-align: right;\">\n",
       "      <th></th>\n",
       "      <th>Airline</th>\n",
       "      <th>Date_of_Journey</th>\n",
       "      <th>Source</th>\n",
       "      <th>Destination</th>\n",
       "      <th>Route</th>\n",
       "      <th>Dep_Time</th>\n",
       "      <th>Arrival_Time</th>\n",
       "      <th>Duration</th>\n",
       "      <th>Total_Stops</th>\n",
       "      <th>Additional_Info</th>\n",
       "      <th>Duration _in_min</th>\n",
       "    </tr>\n",
       "  </thead>\n",
       "  <tbody>\n",
       "    <tr>\n",
       "      <th>0</th>\n",
       "      <td>Airline B</td>\n",
       "      <td>03/27/2019</td>\n",
       "      <td>Delhi</td>\n",
       "      <td>Cochin</td>\n",
       "      <td>DEL → HYD → COK</td>\n",
       "      <td>04:55</td>\n",
       "      <td>16:10</td>\n",
       "      <td>11h 15m</td>\n",
       "      <td>1 stop</td>\n",
       "      <td>No info</td>\n",
       "      <td>675</td>\n",
       "    </tr>\n",
       "    <tr>\n",
       "      <th>1</th>\n",
       "      <td>Airline E</td>\n",
       "      <td>05/27/2019</td>\n",
       "      <td>Kolkata</td>\n",
       "      <td>Banglore</td>\n",
       "      <td>CCU → BLR</td>\n",
       "      <td>22:20</td>\n",
       "      <td>28-05-2020 00:40</td>\n",
       "      <td>2h 20m</td>\n",
       "      <td>non-stop</td>\n",
       "      <td>No info</td>\n",
       "      <td>140</td>\n",
       "    </tr>\n",
       "    <tr>\n",
       "      <th>2</th>\n",
       "      <td>Airline C</td>\n",
       "      <td>06/06/2019</td>\n",
       "      <td>Kolkata</td>\n",
       "      <td>Banglore</td>\n",
       "      <td>CCU → IXR → DEL → BLR</td>\n",
       "      <td>05:50</td>\n",
       "      <td>20:25</td>\n",
       "      <td>14h 35m</td>\n",
       "      <td>2 stops</td>\n",
       "      <td>No info</td>\n",
       "      <td>875</td>\n",
       "    </tr>\n",
       "    <tr>\n",
       "      <th>3</th>\n",
       "      <td>Airline A</td>\n",
       "      <td>06/03/2019</td>\n",
       "      <td>Banglore</td>\n",
       "      <td>New Delhi</td>\n",
       "      <td>BLR → MAA → DEL</td>\n",
       "      <td>09:45</td>\n",
       "      <td>14:25</td>\n",
       "      <td>4h 40m</td>\n",
       "      <td>1 stop</td>\n",
       "      <td>No info</td>\n",
       "      <td>280</td>\n",
       "    </tr>\n",
       "    <tr>\n",
       "      <th>4</th>\n",
       "      <td>Airline B</td>\n",
       "      <td>06/15/2019</td>\n",
       "      <td>Delhi</td>\n",
       "      <td>Cochin</td>\n",
       "      <td>DEL → BOM → COK</td>\n",
       "      <td>16:00</td>\n",
       "      <td>16-06-2020 01:30</td>\n",
       "      <td>9h 30m</td>\n",
       "      <td>1 stop</td>\n",
       "      <td>No info</td>\n",
       "      <td>570</td>\n",
       "    </tr>\n",
       "  </tbody>\n",
       "</table>\n",
       "</div>"
      ],
      "text/plain": [
       "     Airline Date_of_Journey    Source Destination                  Route  \\\n",
       "0  Airline B      03/27/2019     Delhi      Cochin        DEL → HYD → COK   \n",
       "1  Airline E      05/27/2019   Kolkata    Banglore              CCU → BLR   \n",
       "2  Airline C      06/06/2019   Kolkata    Banglore  CCU → IXR → DEL → BLR   \n",
       "3  Airline A      06/03/2019  Banglore   New Delhi        BLR → MAA → DEL   \n",
       "4  Airline B      06/15/2019     Delhi      Cochin        DEL → BOM → COK   \n",
       "\n",
       "  Dep_Time      Arrival_Time Duration Total_Stops Additional_Info  \\\n",
       "0    04:55             16:10  11h 15m      1 stop         No info   \n",
       "1    22:20  28-05-2020 00:40   2h 20m    non-stop         No info   \n",
       "2    05:50             20:25  14h 35m     2 stops         No info   \n",
       "3    09:45             14:25   4h 40m      1 stop         No info   \n",
       "4    16:00  16-06-2020 01:30   9h 30m      1 stop         No info   \n",
       "\n",
       "   Duration _in_min  \n",
       "0               675  \n",
       "1               140  \n",
       "2               875  \n",
       "3               280  \n",
       "4               570  "
      ]
     },
     "execution_count": 88,
     "metadata": {},
     "output_type": "execute_result"
    }
   ],
   "source": [
    "import datetime\n",
    "df_test['Duration _in_min']=(pd.to_timedelta(df_test.Duration.str.replace('mins', 'min')).dt.total_seconds()//60).astype(int)\n",
    "\n",
    "df_test.head()"
   ]
  },
  {
   "cell_type": "code",
   "execution_count": 89,
   "metadata": {},
   "outputs": [],
   "source": [
    "df_test= df_test.drop([\"Duration\"],1)"
   ]
  },
  {
   "cell_type": "code",
   "execution_count": 90,
   "metadata": {},
   "outputs": [
    {
     "data": {
      "text/plain": [
       "0       03/27/2019\n",
       "1       05/27/2019\n",
       "2       06/06/2019\n",
       "3       06/03/2019\n",
       "4       06/15/2019\n",
       "           ...    \n",
       "2666    03/21/2019\n",
       "2667    04/27/2019\n",
       "2668    09/06/2019\n",
       "2669    01/05/2019\n",
       "2670    09/06/2019\n",
       "Name: Date_of_Journey, Length: 2671, dtype: object"
      ]
     },
     "execution_count": 90,
     "metadata": {},
     "output_type": "execute_result"
    }
   ],
   "source": [
    "df_test['Date_of_Journey']"
   ]
  },
  {
   "cell_type": "code",
   "execution_count": 91,
   "metadata": {},
   "outputs": [],
   "source": [
    "# Converting all dates to standard format\n",
    "df_test['Day_of_Week'] = pd.to_datetime(df_test['Date_of_Journey'], format='%m/%d/%Y')\n",
    "\n",
    "#Identifying the day of the week\n",
    "df_test['Day_of_Week'] = df_test['Day_of_Week'].dt.day_name()"
   ]
  },
  {
   "cell_type": "code",
   "execution_count": 92,
   "metadata": {},
   "outputs": [
    {
     "name": "stdout",
     "output_type": "stream",
     "text": [
      "<class 'pandas.core.frame.DataFrame'>\n",
      "RangeIndex: 2671 entries, 0 to 2670\n",
      "Data columns (total 11 columns):\n",
      " #   Column            Non-Null Count  Dtype \n",
      "---  ------            --------------  ----- \n",
      " 0   Airline           2671 non-null   object\n",
      " 1   Date_of_Journey   2671 non-null   object\n",
      " 2   Source            2671 non-null   object\n",
      " 3   Destination       2671 non-null   object\n",
      " 4   Route             2671 non-null   object\n",
      " 5   Dep_Time          2671 non-null   object\n",
      " 6   Arrival_Time      2671 non-null   object\n",
      " 7   Total_Stops       2671 non-null   object\n",
      " 8   Additional_Info   2671 non-null   object\n",
      " 9   Duration _in_min  2671 non-null   int32 \n",
      " 10  Day_of_Week       2671 non-null   object\n",
      "dtypes: int32(1), object(10)\n",
      "memory usage: 219.2+ KB\n"
     ]
    }
   ],
   "source": [
    "df_test.info()"
   ]
  },
  {
   "cell_type": "code",
   "execution_count": 93,
   "metadata": {},
   "outputs": [],
   "source": [
    "df_t=df_test['Airline']"
   ]
  },
  {
   "cell_type": "code",
   "execution_count": 94,
   "metadata": {},
   "outputs": [],
   "source": [
    "cat_feature = df_test.select_dtypes(include = \"object\").columns"
   ]
  },
  {
   "cell_type": "code",
   "execution_count": 95,
   "metadata": {},
   "outputs": [
    {
     "name": "stdout",
     "output_type": "stream",
     "text": [
      "<class 'pandas.core.frame.DataFrame'>\n",
      "RangeIndex: 2671 entries, 0 to 2670\n",
      "Data columns (total 11 columns):\n",
      " #   Column            Non-Null Count  Dtype\n",
      "---  ------            --------------  -----\n",
      " 0   Airline           2671 non-null   int32\n",
      " 1   Date_of_Journey   2671 non-null   int32\n",
      " 2   Source            2671 non-null   int32\n",
      " 3   Destination       2671 non-null   int32\n",
      " 4   Route             2671 non-null   int32\n",
      " 5   Dep_Time          2671 non-null   int32\n",
      " 6   Arrival_Time      2671 non-null   int32\n",
      " 7   Total_Stops       2671 non-null   int32\n",
      " 8   Additional_Info   2671 non-null   int32\n",
      " 9   Duration _in_min  2671 non-null   int32\n",
      " 10  Day_of_Week       2671 non-null   int32\n",
      "dtypes: int32(11)\n",
      "memory usage: 114.9 KB\n",
      "None\n"
     ]
    }
   ],
   "source": [
    "#Label Encoding 'for object' to numeric conversion\n",
    "\n",
    "LE_var = LabelEncoder()\n",
    "\n",
    "for col in cat_feature:\n",
    "    df_test[col] = LE_var.fit_transform(df_test[col].astype(str))\n",
    "print (df_test.info())"
   ]
  },
  {
   "cell_type": "code",
   "execution_count": 96,
   "metadata": {},
   "outputs": [
    {
     "data": {
      "text/html": [
       "<div>\n",
       "<style scoped>\n",
       "    .dataframe tbody tr th:only-of-type {\n",
       "        vertical-align: middle;\n",
       "    }\n",
       "\n",
       "    .dataframe tbody tr th {\n",
       "        vertical-align: top;\n",
       "    }\n",
       "\n",
       "    .dataframe thead th {\n",
       "        text-align: right;\n",
       "    }\n",
       "</style>\n",
       "<table border=\"1\" class=\"dataframe\">\n",
       "  <thead>\n",
       "    <tr style=\"text-align: right;\">\n",
       "      <th></th>\n",
       "      <th>Airline</th>\n",
       "      <th>Date_of_Journey</th>\n",
       "      <th>Source</th>\n",
       "      <th>Destination</th>\n",
       "      <th>Route</th>\n",
       "      <th>Dep_Time</th>\n",
       "      <th>Arrival_Time</th>\n",
       "      <th>Total_Stops</th>\n",
       "      <th>Additional_Info</th>\n",
       "      <th>Duration _in_min</th>\n",
       "      <th>Day_of_Week</th>\n",
       "    </tr>\n",
       "  </thead>\n",
       "  <tbody>\n",
       "    <tr>\n",
       "      <th>0</th>\n",
       "      <td>1</td>\n",
       "      <td>12</td>\n",
       "      <td>2</td>\n",
       "      <td>1</td>\n",
       "      <td>79</td>\n",
       "      <td>14</td>\n",
       "      <td>431</td>\n",
       "      <td>0</td>\n",
       "      <td>5</td>\n",
       "      <td>675</td>\n",
       "      <td>6</td>\n",
       "    </tr>\n",
       "    <tr>\n",
       "      <th>1</th>\n",
       "      <td>4</td>\n",
       "      <td>22</td>\n",
       "      <td>3</td>\n",
       "      <td>0</td>\n",
       "      <td>39</td>\n",
       "      <td>187</td>\n",
       "      <td>674</td>\n",
       "      <td>4</td>\n",
       "      <td>5</td>\n",
       "      <td>140</td>\n",
       "      <td>1</td>\n",
       "    </tr>\n",
       "    <tr>\n",
       "      <th>2</th>\n",
       "      <td>2</td>\n",
       "      <td>26</td>\n",
       "      <td>3</td>\n",
       "      <td>0</td>\n",
       "      <td>57</td>\n",
       "      <td>24</td>\n",
       "      <td>509</td>\n",
       "      <td>1</td>\n",
       "      <td>5</td>\n",
       "      <td>875</td>\n",
       "      <td>4</td>\n",
       "    </tr>\n",
       "    <tr>\n",
       "      <th>3</th>\n",
       "      <td>0</td>\n",
       "      <td>23</td>\n",
       "      <td>0</td>\n",
       "      <td>5</td>\n",
       "      <td>18</td>\n",
       "      <td>63</td>\n",
       "      <td>374</td>\n",
       "      <td>0</td>\n",
       "      <td>5</td>\n",
       "      <td>280</td>\n",
       "      <td>1</td>\n",
       "    </tr>\n",
       "    <tr>\n",
       "      <th>4</th>\n",
       "      <td>1</td>\n",
       "      <td>27</td>\n",
       "      <td>2</td>\n",
       "      <td>1</td>\n",
       "      <td>73</td>\n",
       "      <td>120</td>\n",
       "      <td>424</td>\n",
       "      <td>0</td>\n",
       "      <td>5</td>\n",
       "      <td>570</td>\n",
       "      <td>2</td>\n",
       "    </tr>\n",
       "    <tr>\n",
       "      <th>...</th>\n",
       "      <td>...</td>\n",
       "      <td>...</td>\n",
       "      <td>...</td>\n",
       "      <td>...</td>\n",
       "      <td>...</td>\n",
       "      <td>...</td>\n",
       "      <td>...</td>\n",
       "      <td>...</td>\n",
       "      <td>...</td>\n",
       "      <td>...</td>\n",
       "      <td>...</td>\n",
       "    </tr>\n",
       "    <tr>\n",
       "      <th>2666</th>\n",
       "      <td>2</td>\n",
       "      <td>10</td>\n",
       "      <td>2</td>\n",
       "      <td>1</td>\n",
       "      <td>73</td>\n",
       "      <td>46</td>\n",
       "      <td>498</td>\n",
       "      <td>0</td>\n",
       "      <td>5</td>\n",
       "      <td>675</td>\n",
       "      <td>4</td>\n",
       "    </tr>\n",
       "    <tr>\n",
       "      <th>2667</th>\n",
       "      <td>6</td>\n",
       "      <td>17</td>\n",
       "      <td>3</td>\n",
       "      <td>0</td>\n",
       "      <td>39</td>\n",
       "      <td>161</td>\n",
       "      <td>584</td>\n",
       "      <td>4</td>\n",
       "      <td>5</td>\n",
       "      <td>150</td>\n",
       "      <td>2</td>\n",
       "    </tr>\n",
       "    <tr>\n",
       "      <th>2668</th>\n",
       "      <td>0</td>\n",
       "      <td>35</td>\n",
       "      <td>2</td>\n",
       "      <td>1</td>\n",
       "      <td>71</td>\n",
       "      <td>20</td>\n",
       "      <td>287</td>\n",
       "      <td>1</td>\n",
       "      <td>3</td>\n",
       "      <td>425</td>\n",
       "      <td>0</td>\n",
       "    </tr>\n",
       "    <tr>\n",
       "      <th>2669</th>\n",
       "      <td>0</td>\n",
       "      <td>2</td>\n",
       "      <td>0</td>\n",
       "      <td>2</td>\n",
       "      <td>14</td>\n",
       "      <td>48</td>\n",
       "      <td>277</td>\n",
       "      <td>4</td>\n",
       "      <td>3</td>\n",
       "      <td>180</td>\n",
       "      <td>2</td>\n",
       "    </tr>\n",
       "    <tr>\n",
       "      <th>2670</th>\n",
       "      <td>7</td>\n",
       "      <td>35</td>\n",
       "      <td>3</td>\n",
       "      <td>0</td>\n",
       "      <td>41</td>\n",
       "      <td>194</td>\n",
       "      <td>252</td>\n",
       "      <td>0</td>\n",
       "      <td>5</td>\n",
       "      <td>495</td>\n",
       "      <td>0</td>\n",
       "    </tr>\n",
       "  </tbody>\n",
       "</table>\n",
       "<p>2671 rows × 11 columns</p>\n",
       "</div>"
      ],
      "text/plain": [
       "      Airline  Date_of_Journey  Source  Destination  Route  Dep_Time  \\\n",
       "0           1               12       2            1     79        14   \n",
       "1           4               22       3            0     39       187   \n",
       "2           2               26       3            0     57        24   \n",
       "3           0               23       0            5     18        63   \n",
       "4           1               27       2            1     73       120   \n",
       "...       ...              ...     ...          ...    ...       ...   \n",
       "2666        2               10       2            1     73        46   \n",
       "2667        6               17       3            0     39       161   \n",
       "2668        0               35       2            1     71        20   \n",
       "2669        0                2       0            2     14        48   \n",
       "2670        7               35       3            0     41       194   \n",
       "\n",
       "      Arrival_Time  Total_Stops  Additional_Info  Duration _in_min  \\\n",
       "0              431            0                5               675   \n",
       "1              674            4                5               140   \n",
       "2              509            1                5               875   \n",
       "3              374            0                5               280   \n",
       "4              424            0                5               570   \n",
       "...            ...          ...              ...               ...   \n",
       "2666           498            0                5               675   \n",
       "2667           584            4                5               150   \n",
       "2668           287            1                3               425   \n",
       "2669           277            4                3               180   \n",
       "2670           252            0                5               495   \n",
       "\n",
       "      Day_of_Week  \n",
       "0               6  \n",
       "1               1  \n",
       "2               4  \n",
       "3               1  \n",
       "4               2  \n",
       "...           ...  \n",
       "2666            4  \n",
       "2667            2  \n",
       "2668            0  \n",
       "2669            2  \n",
       "2670            0  \n",
       "\n",
       "[2671 rows x 11 columns]"
      ]
     },
     "execution_count": 96,
     "metadata": {},
     "output_type": "execute_result"
    }
   ],
   "source": [
    "df_test"
   ]
  },
  {
   "cell_type": "code",
   "execution_count": 97,
   "metadata": {},
   "outputs": [],
   "source": [
    "df_test = df_test.drop([\"Additional_Info\"],1)"
   ]
  },
  {
   "cell_type": "code",
   "execution_count": 98,
   "metadata": {},
   "outputs": [
    {
     "data": {
      "text/plain": [
       "(2671, 10)"
      ]
     },
     "execution_count": 98,
     "metadata": {},
     "output_type": "execute_result"
    }
   ],
   "source": [
    "df_test.shape"
   ]
  },
  {
   "cell_type": "markdown",
   "metadata": {},
   "source": [
    "## Creating the X and y dataset where y contains only the dependent variable and X contains the independent variables"
   ]
  },
  {
   "cell_type": "code",
   "execution_count": 99,
   "metadata": {},
   "outputs": [
    {
     "data": {
      "text/html": [
       "<div>\n",
       "<style scoped>\n",
       "    .dataframe tbody tr th:only-of-type {\n",
       "        vertical-align: middle;\n",
       "    }\n",
       "\n",
       "    .dataframe tbody tr th {\n",
       "        vertical-align: top;\n",
       "    }\n",
       "\n",
       "    .dataframe thead th {\n",
       "        text-align: right;\n",
       "    }\n",
       "</style>\n",
       "<table border=\"1\" class=\"dataframe\">\n",
       "  <thead>\n",
       "    <tr style=\"text-align: right;\">\n",
       "      <th></th>\n",
       "      <th>Airline</th>\n",
       "      <th>Date_of_Journey</th>\n",
       "      <th>Source</th>\n",
       "      <th>Destination</th>\n",
       "      <th>Route</th>\n",
       "      <th>Dep_Time</th>\n",
       "      <th>Arrival_Time</th>\n",
       "      <th>Total_Stops</th>\n",
       "      <th>Additional_Info</th>\n",
       "      <th>Price</th>\n",
       "      <th>Duration _in_min</th>\n",
       "      <th>Day_of_Week</th>\n",
       "    </tr>\n",
       "  </thead>\n",
       "  <tbody>\n",
       "    <tr>\n",
       "      <th>0</th>\n",
       "      <td>2</td>\n",
       "      <td>11</td>\n",
       "      <td>2</td>\n",
       "      <td>1</td>\n",
       "      <td>115</td>\n",
       "      <td>190</td>\n",
       "      <td>587</td>\n",
       "      <td>0</td>\n",
       "      <td>8</td>\n",
       "      <td>7480</td>\n",
       "      <td>765</td>\n",
       "      <td>6</td>\n",
       "    </tr>\n",
       "    <tr>\n",
       "      <th>1</th>\n",
       "      <td>0</td>\n",
       "      <td>19</td>\n",
       "      <td>0</td>\n",
       "      <td>2</td>\n",
       "      <td>17</td>\n",
       "      <td>170</td>\n",
       "      <td>1095</td>\n",
       "      <td>4</td>\n",
       "      <td>8</td>\n",
       "      <td>8016</td>\n",
       "      <td>185</td>\n",
       "      <td>5</td>\n",
       "    </tr>\n",
       "    <tr>\n",
       "      <th>2</th>\n",
       "      <td>2</td>\n",
       "      <td>18</td>\n",
       "      <td>2</td>\n",
       "      <td>1</td>\n",
       "      <td>98</td>\n",
       "      <td>14</td>\n",
       "      <td>984</td>\n",
       "      <td>0</td>\n",
       "      <td>8</td>\n",
       "      <td>8879</td>\n",
       "      <td>925</td>\n",
       "      <td>2</td>\n",
       "    </tr>\n",
       "    <tr>\n",
       "      <th>3</th>\n",
       "      <td>0</td>\n",
       "      <td>38</td>\n",
       "      <td>3</td>\n",
       "      <td>0</td>\n",
       "      <td>61</td>\n",
       "      <td>182</td>\n",
       "      <td>496</td>\n",
       "      <td>0</td>\n",
       "      <td>5</td>\n",
       "      <td>9663</td>\n",
       "      <td>735</td>\n",
       "      <td>1</td>\n",
       "    </tr>\n",
       "    <tr>\n",
       "      <th>4</th>\n",
       "      <td>0</td>\n",
       "      <td>42</td>\n",
       "      <td>3</td>\n",
       "      <td>0</td>\n",
       "      <td>61</td>\n",
       "      <td>38</td>\n",
       "      <td>727</td>\n",
       "      <td>0</td>\n",
       "      <td>5</td>\n",
       "      <td>9663</td>\n",
       "      <td>330</td>\n",
       "      <td>4</td>\n",
       "    </tr>\n",
       "    <tr>\n",
       "      <th>...</th>\n",
       "      <td>...</td>\n",
       "      <td>...</td>\n",
       "      <td>...</td>\n",
       "      <td>...</td>\n",
       "      <td>...</td>\n",
       "      <td>...</td>\n",
       "      <td>...</td>\n",
       "      <td>...</td>\n",
       "      <td>...</td>\n",
       "      <td>...</td>\n",
       "      <td>...</td>\n",
       "      <td>...</td>\n",
       "    </tr>\n",
       "    <tr>\n",
       "      <th>8007</th>\n",
       "      <td>0</td>\n",
       "      <td>11</td>\n",
       "      <td>3</td>\n",
       "      <td>0</td>\n",
       "      <td>61</td>\n",
       "      <td>38</td>\n",
       "      <td>379</td>\n",
       "      <td>0</td>\n",
       "      <td>5</td>\n",
       "      <td>7594</td>\n",
       "      <td>1330</td>\n",
       "      <td>6</td>\n",
       "    </tr>\n",
       "    <tr>\n",
       "      <th>8008</th>\n",
       "      <td>2</td>\n",
       "      <td>43</td>\n",
       "      <td>2</td>\n",
       "      <td>1</td>\n",
       "      <td>102</td>\n",
       "      <td>204</td>\n",
       "      <td>994</td>\n",
       "      <td>1</td>\n",
       "      <td>8</td>\n",
       "      <td>10651</td>\n",
       "      <td>1275</td>\n",
       "      <td>3</td>\n",
       "    </tr>\n",
       "    <tr>\n",
       "      <th>8009</th>\n",
       "      <td>0</td>\n",
       "      <td>32</td>\n",
       "      <td>2</td>\n",
       "      <td>1</td>\n",
       "      <td>98</td>\n",
       "      <td>53</td>\n",
       "      <td>332</td>\n",
       "      <td>0</td>\n",
       "      <td>8</td>\n",
       "      <td>17024</td>\n",
       "      <td>1225</td>\n",
       "      <td>3</td>\n",
       "    </tr>\n",
       "    <tr>\n",
       "      <th>8010</th>\n",
       "      <td>0</td>\n",
       "      <td>18</td>\n",
       "      <td>2</td>\n",
       "      <td>1</td>\n",
       "      <td>98</td>\n",
       "      <td>90</td>\n",
       "      <td>772</td>\n",
       "      <td>0</td>\n",
       "      <td>5</td>\n",
       "      <td>12373</td>\n",
       "      <td>1505</td>\n",
       "      <td>2</td>\n",
       "    </tr>\n",
       "    <tr>\n",
       "      <th>8011</th>\n",
       "      <td>0</td>\n",
       "      <td>42</td>\n",
       "      <td>3</td>\n",
       "      <td>0</td>\n",
       "      <td>68</td>\n",
       "      <td>187</td>\n",
       "      <td>1170</td>\n",
       "      <td>0</td>\n",
       "      <td>8</td>\n",
       "      <td>13067</td>\n",
       "      <td>1630</td>\n",
       "      <td>4</td>\n",
       "    </tr>\n",
       "  </tbody>\n",
       "</table>\n",
       "<p>8012 rows × 12 columns</p>\n",
       "</div>"
      ],
      "text/plain": [
       "      Airline  Date_of_Journey  Source  Destination  Route  Dep_Time  \\\n",
       "0           2               11       2            1    115       190   \n",
       "1           0               19       0            2     17       170   \n",
       "2           2               18       2            1     98        14   \n",
       "3           0               38       3            0     61       182   \n",
       "4           0               42       3            0     61        38   \n",
       "...       ...              ...     ...          ...    ...       ...   \n",
       "8007        0               11       3            0     61        38   \n",
       "8008        2               43       2            1    102       204   \n",
       "8009        0               32       2            1     98        53   \n",
       "8010        0               18       2            1     98        90   \n",
       "8011        0               42       3            0     68       187   \n",
       "\n",
       "      Arrival_Time  Total_Stops  Additional_Info  Price  Duration _in_min  \\\n",
       "0              587            0                8   7480               765   \n",
       "1             1095            4                8   8016               185   \n",
       "2              984            0                8   8879               925   \n",
       "3              496            0                5   9663               735   \n",
       "4              727            0                5   9663               330   \n",
       "...            ...          ...              ...    ...               ...   \n",
       "8007           379            0                5   7594              1330   \n",
       "8008           994            1                8  10651              1275   \n",
       "8009           332            0                8  17024              1225   \n",
       "8010           772            0                5  12373              1505   \n",
       "8011          1170            0                8  13067              1630   \n",
       "\n",
       "      Day_of_Week  \n",
       "0               6  \n",
       "1               5  \n",
       "2               2  \n",
       "3               1  \n",
       "4               4  \n",
       "...           ...  \n",
       "8007            6  \n",
       "8008            3  \n",
       "8009            3  \n",
       "8010            2  \n",
       "8011            4  \n",
       "\n",
       "[8012 rows x 12 columns]"
      ]
     },
     "execution_count": 99,
     "metadata": {},
     "output_type": "execute_result"
    }
   ],
   "source": [
    "df_train_new"
   ]
  },
  {
   "cell_type": "code",
   "execution_count": 100,
   "metadata": {},
   "outputs": [],
   "source": [
    "X = df_train_new.drop([\"Price\"],1)\n"
   ]
  },
  {
   "cell_type": "code",
   "execution_count": 102,
   "metadata": {},
   "outputs": [],
   "source": [
    "X = X.drop([\"Additional_Info\"],1)\n",
    "y = df_train_new[\"Price\"].copy()"
   ]
  },
  {
   "cell_type": "code",
   "execution_count": 148,
   "metadata": {},
   "outputs": [],
   "source": [
    "#X"
   ]
  },
  {
   "cell_type": "code",
   "execution_count": 104,
   "metadata": {},
   "outputs": [
    {
     "data": {
      "text/plain": [
       "(8012, 10)"
      ]
     },
     "execution_count": 104,
     "metadata": {},
     "output_type": "execute_result"
    }
   ],
   "source": [
    "X.shape"
   ]
  },
  {
   "cell_type": "code",
   "execution_count": 105,
   "metadata": {},
   "outputs": [],
   "source": [
    "X_train,X_test,y_train,y_test=train_test_split(X,y,test_size=0.2,random_state=50)"
   ]
  },
  {
   "cell_type": "markdown",
   "metadata": {},
   "source": [
    "### 1. Linear regression"
   ]
  },
  {
   "cell_type": "code",
   "execution_count": 149,
   "metadata": {},
   "outputs": [],
   "source": [
    "from sklearn.linear_model import LinearRegression\n",
    "LR=LinearRegression()\n",
    "\n",
    "LR.fit(X_train,y_train)\n",
    "from sklearn.metrics import mean_squared_error\n",
    "\n",
    "predictions = LR.predict(X_test)"
   ]
  },
  {
   "cell_type": "code",
   "execution_count": 150,
   "metadata": {},
   "outputs": [
    {
     "name": "stdout",
     "output_type": "stream",
     "text": [
      "Test RMSE: -0.15382690702196586\n"
     ]
    }
   ],
   "source": [
    "print('Test RMSE:',-np.sqrt(np.square(np.log10(predictions +1) - np.log10(y_test +1)).mean()))"
   ]
  },
  {
   "cell_type": "markdown",
   "metadata": {},
   "source": [
    "### 2. Random Forest Regression\n"
   ]
  },
  {
   "cell_type": "code",
   "execution_count": 49,
   "metadata": {},
   "outputs": [],
   "source": [
    "from sklearn.ensemble import RandomForestRegressor\n",
    "# Instantiate model with 1000 decision trees\n",
    "rf = RandomForestRegressor(n_estimators = 500, random_state = 42)\n",
    "# Train the model on training data\n",
    "rf.fit(X_train, y_train);"
   ]
  },
  {
   "cell_type": "code",
   "execution_count": 107,
   "metadata": {},
   "outputs": [],
   "source": [
    "rf_pred = rf.predict(X_test)\n",
    "predictions = rf.predict(X_test)\n",
    "\n",
    "#print('Test RMSE:',np.sqrt(mean_squared_error(y_test,predictions)))"
   ]
  },
  {
   "cell_type": "code",
   "execution_count": 108,
   "metadata": {},
   "outputs": [
    {
     "name": "stdout",
     "output_type": "stream",
     "text": [
      "Test RMSE: -0.08553874202794202\n"
     ]
    }
   ],
   "source": [
    "print('Test RMSE:',-np.sqrt(np.square(np.log10(predictions +1) - np.log10(y_test +1)).mean()))"
   ]
  },
  {
   "cell_type": "markdown",
   "metadata": {},
   "source": [
    "## Ada Boost Regressor"
   ]
  },
  {
   "cell_type": "code",
   "execution_count": 151,
   "metadata": {},
   "outputs": [
    {
     "data": {
      "text/plain": [
       "AdaBoostRegressor(n_estimators=100)"
      ]
     },
     "execution_count": 151,
     "metadata": {},
     "output_type": "execute_result"
    }
   ],
   "source": [
    "from sklearn.ensemble import AdaBoostRegressor\n",
    "ada = AdaBoostRegressor(n_estimators=100)\n",
    "ada.fit(X_train, y_train)\n",
    "#ada.score(X_test,y_test)"
   ]
  },
  {
   "cell_type": "code",
   "execution_count": 152,
   "metadata": {},
   "outputs": [
    {
     "name": "stdout",
     "output_type": "stream",
     "text": [
      "Test RMSE: -0.28852171860706\n"
     ]
    }
   ],
   "source": [
    "predictions = ada.predict(X_test)\n",
    "\n",
    "print('Test RMSE:',-np.sqrt(np.square(np.log10(predictions +1) - np.log10(y_test +1)).mean()))\n"
   ]
  },
  {
   "cell_type": "markdown",
   "metadata": {},
   "source": [
    "## XGB Regressor"
   ]
  },
  {
   "cell_type": "code",
   "execution_count": 131,
   "metadata": {},
   "outputs": [
    {
     "name": "stdout",
     "output_type": "stream",
     "text": [
      "Test RMSE: -0.0778318696839152\n"
     ]
    }
   ],
   "source": [
    "import xgboost as xgb\n",
    "model=xgb.XGBRegressor()\n",
    "model.fit(X_train, y_train)\n",
    "predictions = model.predict(X_test)\n",
    "\n",
    "print('Test RMSE:',-np.sqrt(np.square(np.log10(predictions +1) - np.log10(y_test +1)).mean()))"
   ]
  },
  {
   "cell_type": "markdown",
   "metadata": {},
   "source": [
    "### Random Forest Regressor displayed a low 'rmse' score compared to other regression models. hence it is used for predicting the test dataset 'price'"
   ]
  },
  {
   "cell_type": "code",
   "execution_count": 141,
   "metadata": {},
   "outputs": [],
   "source": [
    "y_pred_test = rf.predict(df_test)"
   ]
  },
  {
   "cell_type": "code",
   "execution_count": 142,
   "metadata": {},
   "outputs": [
    {
     "data": {
      "text/plain": [
       "array([ 7241.35      ,  4133.5494381 ,  9751.999     , ...,\n",
       "       13935.37618333,  7522.85116667,  8892.084     ])"
      ]
     },
     "execution_count": 142,
     "metadata": {},
     "output_type": "execute_result"
    }
   ],
   "source": [
    "y_pred_test"
   ]
  },
  {
   "cell_type": "code",
   "execution_count": 143,
   "metadata": {},
   "outputs": [],
   "source": [
    "submissions_f = pd.DataFrame(y_pred_test,columns = ['Price'])\n"
   ]
  },
  {
   "cell_type": "code",
   "execution_count": 144,
   "metadata": {},
   "outputs": [
    {
     "data": {
      "text/html": [
       "<div>\n",
       "<style scoped>\n",
       "    .dataframe tbody tr th:only-of-type {\n",
       "        vertical-align: middle;\n",
       "    }\n",
       "\n",
       "    .dataframe tbody tr th {\n",
       "        vertical-align: top;\n",
       "    }\n",
       "\n",
       "    .dataframe thead th {\n",
       "        text-align: right;\n",
       "    }\n",
       "</style>\n",
       "<table border=\"1\" class=\"dataframe\">\n",
       "  <thead>\n",
       "    <tr style=\"text-align: right;\">\n",
       "      <th></th>\n",
       "      <th>Price</th>\n",
       "    </tr>\n",
       "  </thead>\n",
       "  <tbody>\n",
       "    <tr>\n",
       "      <th>0</th>\n",
       "      <td>7241.350000</td>\n",
       "    </tr>\n",
       "    <tr>\n",
       "      <th>1</th>\n",
       "      <td>4133.549438</td>\n",
       "    </tr>\n",
       "    <tr>\n",
       "      <th>2</th>\n",
       "      <td>9751.999000</td>\n",
       "    </tr>\n",
       "    <tr>\n",
       "      <th>3</th>\n",
       "      <td>8111.035200</td>\n",
       "    </tr>\n",
       "    <tr>\n",
       "      <th>4</th>\n",
       "      <td>7211.806000</td>\n",
       "    </tr>\n",
       "  </tbody>\n",
       "</table>\n",
       "</div>"
      ],
      "text/plain": [
       "         Price\n",
       "0  7241.350000\n",
       "1  4133.549438\n",
       "2  9751.999000\n",
       "3  8111.035200\n",
       "4  7211.806000"
      ]
     },
     "execution_count": 144,
     "metadata": {},
     "output_type": "execute_result"
    }
   ],
   "source": [
    "submissions_f.head()"
   ]
  },
  {
   "cell_type": "code",
   "execution_count": 145,
   "metadata": {},
   "outputs": [],
   "source": [
    "submissions_f.set_index('Price', inplace=True)"
   ]
  },
  {
   "cell_type": "code",
   "execution_count": 146,
   "metadata": {},
   "outputs": [
    {
     "data": {
      "text/html": [
       "<div>\n",
       "<style scoped>\n",
       "    .dataframe tbody tr th:only-of-type {\n",
       "        vertical-align: middle;\n",
       "    }\n",
       "\n",
       "    .dataframe tbody tr th {\n",
       "        vertical-align: top;\n",
       "    }\n",
       "\n",
       "    .dataframe thead th {\n",
       "        text-align: right;\n",
       "    }\n",
       "</style>\n",
       "<table border=\"1\" class=\"dataframe\">\n",
       "  <thead>\n",
       "    <tr style=\"text-align: right;\">\n",
       "      <th></th>\n",
       "    </tr>\n",
       "    <tr>\n",
       "      <th>Price</th>\n",
       "    </tr>\n",
       "  </thead>\n",
       "  <tbody>\n",
       "    <tr>\n",
       "      <th>7241.350000</th>\n",
       "    </tr>\n",
       "    <tr>\n",
       "      <th>4133.549438</th>\n",
       "    </tr>\n",
       "    <tr>\n",
       "      <th>9751.999000</th>\n",
       "    </tr>\n",
       "    <tr>\n",
       "      <th>8111.035200</th>\n",
       "    </tr>\n",
       "    <tr>\n",
       "      <th>7211.806000</th>\n",
       "    </tr>\n",
       "  </tbody>\n",
       "</table>\n",
       "</div>"
      ],
      "text/plain": [
       "Empty DataFrame\n",
       "Columns: []\n",
       "Index: [7241.35, 4133.549438095239, 9751.999, 8111.035200000001, 7211.806]"
      ]
     },
     "execution_count": 146,
     "metadata": {},
     "output_type": "execute_result"
    }
   ],
   "source": [
    "submissions_f.head()"
   ]
  },
  {
   "cell_type": "code",
   "execution_count": 147,
   "metadata": {},
   "outputs": [],
   "source": [
    "submissions_f.to_csv('D:/greyatom/Test/submission_file.csv')"
   ]
  }
 ],
 "metadata": {
  "kernelspec": {
   "display_name": "Python 3",
   "language": "python",
   "name": "python3"
  },
  "language_info": {
   "codemirror_mode": {
    "name": "ipython",
    "version": 3
   },
   "file_extension": ".py",
   "mimetype": "text/x-python",
   "name": "python",
   "nbconvert_exporter": "python",
   "pygments_lexer": "ipython3",
   "version": "3.8.3"
  }
 },
 "nbformat": 4,
 "nbformat_minor": 4
}
